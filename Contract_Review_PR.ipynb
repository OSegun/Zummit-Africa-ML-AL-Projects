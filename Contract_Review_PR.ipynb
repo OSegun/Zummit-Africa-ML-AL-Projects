{
  "nbformat": 4,
  "nbformat_minor": 0,
  "metadata": {
    "colab": {
      "provenance": [],
      "gpuType": "T4",
      "authorship_tag": "ABX9TyOO5cxjRMwlklP0+uV676LP",
      "include_colab_link": true
    },
    "kernelspec": {
      "name": "python3",
      "display_name": "Python 3"
    },
    "language_info": {
      "name": "python"
    },
    "accelerator": "GPU",
    "gpuClass": "standard"
  },
  "cells": [
    {
      "cell_type": "markdown",
      "metadata": {
        "id": "view-in-github",
        "colab_type": "text"
      },
      "source": [
        "<a href=\"https://colab.research.google.com/github/OSegun/Zummit-Africa-ML-AL-Projects/blob/main/Contract_Review_PR.ipynb\" target=\"_parent\"><img src=\"https://colab.research.google.com/assets/colab-badge.svg\" alt=\"Open In Colab\"/></a>"
      ]
    },
    {
      "cell_type": "code",
      "execution_count": 20,
      "metadata": {
        "id": "YcsTGzFgXMre"
      },
      "outputs": [],
      "source": [
        "#!pip install torch\n",
        "#!pip install transformers"
      ]
    },
    {
      "cell_type": "code",
      "source": [
        "!git clone https://github.com/TheAtticusProject/cuad.git"
      ],
      "metadata": {
        "colab": {
          "base_uri": "https://localhost:8080/"
        },
        "id": "y13jlmU-SWLS",
        "outputId": "0893b0d0-ac90-480e-9ec7-ed1d87b334a3"
      },
      "execution_count": 2,
      "outputs": [
        {
          "output_type": "stream",
          "name": "stdout",
          "text": [
            "Cloning into 'cuad'...\n",
            "remote: Enumerating objects: 30, done.\u001b[K\n",
            "remote: Total 30 (delta 0), reused 0 (delta 0), pack-reused 30\u001b[K\n",
            "Unpacking objects: 100% (30/30), 17.78 MiB | 12.65 MiB/s, done.\n"
          ]
        }
      ]
    },
    {
      "cell_type": "code",
      "source": [
        "!wget https://zenodo.org/record/4599830/files/roberta-base.zip?download=1"
      ],
      "metadata": {
        "colab": {
          "base_uri": "https://localhost:8080/"
        },
        "id": "e2oERrRHYDt1",
        "outputId": "744b1629-1b48-464c-f0eb-16a401293280"
      },
      "execution_count": 3,
      "outputs": [
        {
          "output_type": "stream",
          "name": "stdout",
          "text": [
            "--2023-05-15 11:11:19--  https://zenodo.org/record/4599830/files/roberta-base.zip?download=1\n",
            "Resolving zenodo.org (zenodo.org)... 188.185.124.72\n",
            "Connecting to zenodo.org (zenodo.org)|188.185.124.72|:443... connected.\n",
            "HTTP request sent, awaiting response... 200 OK\n",
            "Length: 447429160 (427M) [application/octet-stream]\n",
            "Saving to: ‘roberta-base.zip?download=1’\n",
            "\n",
            "roberta-base.zip?do 100%[===================>] 426.70M  1.95MB/s    in 3m 28s  \n",
            "\n",
            "2023-05-15 11:15:03 (2.05 MB/s) - ‘roberta-base.zip?download=1’ saved [447429160/447429160]\n",
            "\n"
          ]
        }
      ]
    },
    {
      "cell_type": "code",
      "source": [
        "!unzip /content/cuad/data.zip"
      ],
      "metadata": {
        "colab": {
          "base_uri": "https://localhost:8080/"
        },
        "id": "wrajdFwfSgJp",
        "outputId": "dd92efe5-4cf5-44d3-fcaf-2a6c85ad26b1"
      },
      "execution_count": 4,
      "outputs": [
        {
          "output_type": "stream",
          "name": "stdout",
          "text": [
            "Archive:  /content/cuad/data.zip\n",
            "  inflating: CUADv1.json             \n",
            "  inflating: test.json               \n",
            "  inflating: train_separate_questions.json  \n"
          ]
        }
      ]
    },
    {
      "cell_type": "code",
      "source": [
        "!mkdir cuad-models"
      ],
      "metadata": {
        "id": "0o-Nn6b4a8Mr"
      },
      "execution_count": 5,
      "outputs": []
    },
    {
      "cell_type": "code",
      "source": [
        "!unzip /content/roberta-base.zip?download=1 -d cuad-models/"
      ],
      "metadata": {
        "colab": {
          "base_uri": "https://localhost:8080/"
        },
        "id": "Jb9T1rPUYaIK",
        "outputId": "610e4bfa-a162-4dd1-afac-d431c0ad866c"
      },
      "execution_count": 6,
      "outputs": [
        {
          "output_type": "stream",
          "name": "stdout",
          "text": [
            "Archive:  /content/roberta-base.zip?download=1\n",
            "   creating: cuad-models/roberta-base/\n",
            "  inflating: cuad-models/roberta-base/special_tokens_map.json  \n",
            "  inflating: cuad-models/roberta-base/tokenizer_config.json  \n",
            "  inflating: cuad-models/roberta-base/pytorch_model.bin  \n",
            "  inflating: cuad-models/roberta-base/training_args.bin  \n",
            "  inflating: cuad-models/roberta-base/vocab.json  \n",
            "  inflating: cuad-models/roberta-base/predictions_.json  \n",
            "  inflating: cuad-models/roberta-base/merges.txt  \n",
            "  inflating: cuad-models/roberta-base/nbest_predictions_.json  \n",
            "  inflating: cuad-models/roberta-base/null_odds_.json  \n",
            "  inflating: cuad-models/roberta-base/config.json  \n"
          ]
        }
      ]
    },
    {
      "cell_type": "code",
      "source": [
        "#https://zenodo.org/record/4599830/files/roberta-base.zip?download=1 --output cuad-models/roberta-base.zip"
      ],
      "metadata": {
        "id": "N6303-9XYz5A"
      },
      "execution_count": null,
      "outputs": []
    },
    {
      "cell_type": "code",
      "source": [
        "import torch\n",
        "import time\n",
        "from torch.utils.data import DataLoader, RandomSampler, SequentialSampler\n",
        "from transformers import AutoConfig, AutoModelForQuestionAnswering, AutoTokenizer, squad_convert_examples_to_features\n",
        "from transformers.data.processors.squad import SquadResult, SquadV2Processor, SquadExample\n",
        "from transformers.data.metrics.squad_metrics import compute_predictions_logits"
      ],
      "metadata": {
        "id": "jZD9XrkidR2G"
      },
      "execution_count": 7,
      "outputs": []
    },
    {
      "cell_type": "code",
      "source": [
        "def to_list(tensor):\n",
        "    return tensor.detach().cpu().tolist()"
      ],
      "metadata": {
        "id": "2wTfLzwZd3iY"
      },
      "execution_count": 8,
      "outputs": []
    },
    {
      "cell_type": "code",
      "source": [
        "config = AutoConfig.from_pretrained('/content/cuad-models/roberta-base')\n",
        "tokenizer = AutoTokenizer.from_pretrained('/content/cuad-models/roberta-base', do_lower_case=True, use_fast=False)\n",
        "model = AutoModelForQuestionAnswering.from_pretrained('/content/cuad-models/roberta-base', config=config)"
      ],
      "metadata": {
        "id": "S1AC16k6eEHF"
      },
      "execution_count": 9,
      "outputs": []
    },
    {
      "cell_type": "code",
      "source": [
        "device = torch.device(\"cuda\" if torch.cuda.is_available() else \"cpu\")\n",
        "model.to(device)"
      ],
      "metadata": {
        "colab": {
          "base_uri": "https://localhost:8080/"
        },
        "id": "qJJD099veqGd",
        "outputId": "49c0549d-15c6-4528-e829-00e615ca2935"
      },
      "execution_count": 10,
      "outputs": [
        {
          "output_type": "execute_result",
          "data": {
            "text/plain": [
              "RobertaForQuestionAnswering(\n",
              "  (roberta): RobertaModel(\n",
              "    (embeddings): RobertaEmbeddings(\n",
              "      (word_embeddings): Embedding(50265, 768, padding_idx=1)\n",
              "      (position_embeddings): Embedding(514, 768, padding_idx=1)\n",
              "      (token_type_embeddings): Embedding(1, 768)\n",
              "      (LayerNorm): LayerNorm((768,), eps=1e-05, elementwise_affine=True)\n",
              "      (dropout): Dropout(p=0.1, inplace=False)\n",
              "    )\n",
              "    (encoder): RobertaEncoder(\n",
              "      (layer): ModuleList(\n",
              "        (0-11): 12 x RobertaLayer(\n",
              "          (attention): RobertaAttention(\n",
              "            (self): RobertaSelfAttention(\n",
              "              (query): Linear(in_features=768, out_features=768, bias=True)\n",
              "              (key): Linear(in_features=768, out_features=768, bias=True)\n",
              "              (value): Linear(in_features=768, out_features=768, bias=True)\n",
              "              (dropout): Dropout(p=0.1, inplace=False)\n",
              "            )\n",
              "            (output): RobertaSelfOutput(\n",
              "              (dense): Linear(in_features=768, out_features=768, bias=True)\n",
              "              (LayerNorm): LayerNorm((768,), eps=1e-05, elementwise_affine=True)\n",
              "              (dropout): Dropout(p=0.1, inplace=False)\n",
              "            )\n",
              "          )\n",
              "          (intermediate): RobertaIntermediate(\n",
              "            (dense): Linear(in_features=768, out_features=3072, bias=True)\n",
              "            (intermediate_act_fn): GELUActivation()\n",
              "          )\n",
              "          (output): RobertaOutput(\n",
              "            (dense): Linear(in_features=3072, out_features=768, bias=True)\n",
              "            (LayerNorm): LayerNorm((768,), eps=1e-05, elementwise_affine=True)\n",
              "            (dropout): Dropout(p=0.1, inplace=False)\n",
              "          )\n",
              "        )\n",
              "      )\n",
              "    )\n",
              "  )\n",
              "  (qa_outputs): Linear(in_features=768, out_features=2, bias=True)\n",
              ")"
            ]
          },
          "metadata": {},
          "execution_count": 10
        }
      ]
    },
    {
      "cell_type": "code",
      "source": [
        "import json\n",
        "\n",
        "with open('/content/CUADv1.json') as json_file:\n",
        "    data = json.load(json_file)\n",
        "\n",
        "questions = []\n",
        "for i, q in enumerate(data['data'][0]['paragraphs'][0]['qas']):\n",
        "    question = data['data'][0]['paragraphs'][0]['qas'][i]['question']\n",
        "    questions.append(question)\n",
        "contract = data['data'][0]['paragraphs'][0]['context']"
      ],
      "metadata": {
        "id": "TwuZYS2He120"
      },
      "execution_count": 11,
      "outputs": []
    },
    {
      "cell_type": "code",
      "source": [
        "questions"
      ],
      "metadata": {
        "id": "o-lGQ-qmU8l_"
      },
      "execution_count": null,
      "outputs": []
    },
    {
      "cell_type": "code",
      "source": [
        "contract"
      ],
      "metadata": {
        "id": "wMA01SI5Vo_0"
      },
      "execution_count": null,
      "outputs": []
    },
    {
      "cell_type": "code",
      "source": [
        "with open('contract.txt', 'w') as f:\n",
        "    f.write(' '.join(contract.split()))"
      ],
      "metadata": {
        "id": "OyG0XszxDkuU"
      },
      "execution_count": 12,
      "outputs": []
    },
    {
      "cell_type": "code",
      "source": [
        "processor = SquadV2Processor()\n",
        "question_result = []\n",
        "\n",
        "for i, question in enumerate(questions):\n",
        "        result = SquadExample(\n",
        "            qas_id=str(i),\n",
        "            question_text= question,\n",
        "            context_text = contract,\n",
        "            answer_text=None,\n",
        "            start_position_character=None,\n",
        "            title=\"Predict\",\n",
        "            answers=None,\n",
        "        )\n",
        "\n",
        "        question_result.append(result)"
      ],
      "metadata": {
        "id": "hh_CktVAWn8_"
      },
      "execution_count": 13,
      "outputs": []
    },
    {
      "cell_type": "code",
      "source": [
        "all_result = []\n",
        "\n",
        "features, dataset = squad_convert_examples_to_features(\n",
        "        examples=question_result,\n",
        "        tokenizer=tokenizer,\n",
        "        max_seq_length= 512,\n",
        "        doc_stride= 256,\n",
        "        max_query_length= 64,\n",
        "        is_training=False,\n",
        "        return_dataset=\"pt\",\n",
        "        threads=1,\n",
        "    )\n",
        "\n",
        "eval_sampler = SequentialSampler(dataset)\n",
        "eval_dataloader = DataLoader(dataset, sampler=eval_sampler, batch_size=10)"
      ],
      "metadata": {
        "colab": {
          "base_uri": "https://localhost:8080/"
        },
        "id": "WAmdN6VoCKJG",
        "outputId": "5229700a-2c07-4b40-eb57-1620d74797c8"
      },
      "execution_count": 14,
      "outputs": [
        {
          "output_type": "stream",
          "name": "stderr",
          "text": [
            "convert squad examples to features: 100%|██████████| 41/41 [00:26<00:00,  1.56it/s]\n",
            "add example index and unique id: 100%|██████████| 41/41 [00:00<00:00, 28145.08it/s]\n"
          ]
        }
      ]
    },
    {
      "cell_type": "code",
      "source": [
        "for batch in eval_dataloader:\n",
        "        model.eval()\n",
        "        batch = tuple(t.to(device) for t in batch)\n",
        "\n",
        "        with torch.no_grad():\n",
        "            inputs = {\n",
        "                \"input_ids\": batch[0],\n",
        "                \"attention_mask\": batch[1],\n",
        "                \"token_type_ids\": batch[2],\n",
        "            }\n",
        "\n",
        "            example_indices = batch[3]\n",
        "\n",
        "            outputs = model(**inputs)\n",
        "\n",
        "            for i, example_index in enumerate(example_indices):\n",
        "                eval_feature = features[example_index.item()]\n",
        "                unique_id = int(eval_feature.unique_id)\n",
        "\n",
        "                output = [to_list(output[i]) for output in outputs.to_tuple()]\n",
        "\n",
        "                start_logits, end_logits = output\n",
        "                result = SquadResult(unique_id, start_logits, end_logits)\n",
        "                all_result.append(result)"
      ],
      "metadata": {
        "id": "NfEoE7PMCv69"
      },
      "execution_count": 16,
      "outputs": []
    },
    {
      "cell_type": "code",
      "source": [
        "predictions = compute_predictions_logits(\n",
        "        all_examples=question_result,\n",
        "        all_features=features,\n",
        "        all_results=all_result,\n",
        "        n_best_size= 1,\n",
        "        max_answer_length= 512,\n",
        "        do_lower_case= False,\n",
        "        output_prediction_file=None,\n",
        "        output_nbest_file=None,\n",
        "        output_null_log_odds_file=None,\n",
        "        verbose_logging=False,\n",
        "        version_2_with_negative=True,\n",
        "        null_score_diff_threshold= 0.0,\n",
        "        tokenizer=tokenizer)"
      ],
      "metadata": {
        "id": "YpODGMuOC3jC"
      },
      "execution_count": 17,
      "outputs": []
    },
    {
      "cell_type": "code",
      "source": [
        "predictions"
      ],
      "metadata": {
        "colab": {
          "base_uri": "https://localhost:8080/"
        },
        "id": "RJI5YlfJC_v6",
        "outputId": "0cf4cb63-1f97-4710-ab47-8b397ed18bda"
      },
      "execution_count": 18,
      "outputs": [
        {
          "output_type": "execute_result",
          "data": {
            "text/plain": [
              "OrderedDict([('0', 'DISTRIBUTOR AGREEMENT'),\n",
              "             ('1', 'Electric City of Illinois L.L.C.'),\n",
              "             ('2', '7th day of September, 1999.'),\n",
              "             ('3',\n",
              "              'The term of this Agreement shall be ten (10) years (the \"Term\") which shall commence on the date upon which the Company delivers to Distributor the last Sample, as defined hereinafter.'),\n",
              "             ('4',\n",
              "              'The term of this Agreement shall be ten (10) years (the \"Term\") which shall commence on the date upon which the Company delivers to Distributor the last Sample, as defined hereinafter.'),\n",
              "             ('5',\n",
              "              'If Distributor complies with all of the terms of this Agreement, the Agreement shall be renewable on an annual basis for one (1) year terms for up to another ten (10) years on the same terms and conditions as set forth herein.'),\n",
              "             ('6',\n",
              "              'If Distributor complies with all of the terms of this Agreement, the Agreement shall be renewable on an annual basis for one (1) year terms for up to another ten (10) years on the same terms and conditions as set forth herein.'),\n",
              "             ('7',\n",
              "              'This Agreement is to be construed according to the laws of the State of Illinois.'),\n",
              "             ('8', ''),\n",
              "             ('9',\n",
              "              'Term of the Agreement and for a period of eighteen (18) months thereafter, nor will Distributor solicit any customer or potential customer of Company to purchase a competitive product during that period.'),\n",
              "             ('10',\n",
              "              'The Company appoints the Distributor as an exclusive distributor of Products in the Market, subject to the terms and conditions of this Agreement.'),\n",
              "             ('11',\n",
              "              'Distributor will not engage the services of any engineering or consulting firm without the express written consent of the Company.'),\n",
              "             ('12',\n",
              "              \"Company hereby appoints Distributor as Company's exclusive distributor within the Market and grants to Distributor the exclusive right to sell and distribute Products within the Market, and Distributor hereby accepts such appointment and such grant, in accordance with the terms and conditions of this Agreement.\"),\n",
              "             ('13',\n",
              "              'During the Term of this Agreement and for a period of twelve (12) months thereafter, the Distributor (on behalf of itself, each of its affiliates and each of their respective representatives) agrees that it will not directly or indirectly solicit or hire any executive, managerial or technical employee of the Company or any of its affiliates.'),\n",
              "             ('14',\n",
              "              'Distributor further agrees that it will not interfere with or otherwise disrupt the business relations between the Company or nay of its affiliates and any of their current or prospective customers, suppliers or distributors, during the'),\n",
              "             ('15', 'Either party may terminate this Agreement upon 30 days'),\n",
              "             ('16',\n",
              "              \"Distributor shall exercise its option to become exclusive Distributor of other Products or devices by serving written notification on Company of its election to become exclusive distributor within thirty (30) days upon which Company informed Distributor in writing of Company's intention to introduce other Products or devices. If Distributor does not exercise its option as herein provided, Company may distribute the other Products or devices within the Market itself or through other distributors.\"),\n",
              "             ('17',\n",
              "              'Upon termination of this Agreement Distributor shall have no further right to the Names and said License to use the Names shall terminate.'),\n",
              "             ('18',\n",
              "              'No assignment of this Agreement or any right accruing hereunder shall be made by the Distributor in whole or in part, without the prior written consent of the Company, which consent shall not be unreasonably withheld.'),\n",
              "             ('19', ''),\n",
              "             ('20',\n",
              "              'The prices set forth in Section 2.4(a) shall be subject to adjustment annually on the first day of each Product Year beginning in the calendar year 2000 and on the first day of each succeeding Product Year for the remainder of the Term and all renewals of this Agreement in proportion to the increase or decrease in the Consumer Price Index (CPI) as compared to the CPI as it existed on the first day of the Term of this Agreement.'),\n",
              "             ('21',\n",
              "              'A minimum of a $250,000.00 purchase order must be received by Company by the first of each month for a total (12) month period.'),\n",
              "             ('22',\n",
              "              \"Company's representatives will make themselves available three days per month in the first Product Year to consult with and train Distributor.\"),\n",
              "             ('23', ''),\n",
              "             ('24', ''),\n",
              "             ('25',\n",
              "              'The Company hereby grants the Distributor the right to do business and use the name \"Electric City of Illinois\" or a similar variation thereof (collectively the \"Names\") for use under this Agreement.'),\n",
              "             ('26',\n",
              "              \"Distributor shall have no right to sublicense the Names or to do business under any other names without the Company's prior approval in writing.\"),\n",
              "             ('27', ''),\n",
              "             ('28',\n",
              "              \"Distributor shall have no right to sublicense the Names or to do business under any other names without the Company's prior approval in writing.\"),\n",
              "             ('29', ''),\n",
              "             ('30', ''),\n",
              "             ('31', ''),\n",
              "             ('32',\n",
              "              'Upon termination of this Agreement Distributor shall have no further right to the Names and said License to use the Names shall terminate.'),\n",
              "             ('33',\n",
              "              'Distributor shall submit written reports to the Company each quarter during the first year of the Term, commencing ninety (90) days after execution of this Agreement, describing its efforts, the potential customers it has approached and the status of its efforts.'),\n",
              "             ('34',\n",
              "              'Distributor shall make reasonable efforts to notify the Company of the proposed delivery schedule before accepting a customer order and shall give the Company written notice of any customer purchase orders which imposes liability for late shipment and neither the Distributor nor the Company shall have a liability for consequential or liquidated damages pertaining to late delivery unless Company specifically acknowledges and agrees in writing to the same.'),\n",
              "             ('35',\n",
              "              'Distributor shall make reasonable efforts to notify the Company of the proposed delivery schedule before accepting a customer order and shall give the Company written notice of any customer purchase orders which imposes liability for late shipment and neither the Distributor nor the Company shall have a liability for consequential or liquidated damages pertaining to late delivery unless Company specifically acknowledges and agrees in writing to the same.'),\n",
              "             ('36',\n",
              "              'Distributor shall make reasonable efforts to notify the Company of the proposed delivery schedule before accepting a customer order and shall give the Company written notice of any customer purchase orders which imposes liability for late shipment and neither the Distributor nor the Company shall have a liability for consequential or liquidated damages pertaining to late delivery unless Company specifically acknowledges and agrees in writing to the same.'),\n",
              "             ('37',\n",
              "              \"Company further warrants that the Products sold hereunder shall be free from defects in design, materials and workmanship for a period of twenty-four (24) months after delivery to Distributor's end-user.\"),\n",
              "             ('38',\n",
              "              'Company will carry a reasonable amount of product liability insurance through a reasonably acceptable products liability insurance company and will name the Distributor as an additional insured under that policy.'),\n",
              "             ('39',\n",
              "              'During the Term of this Agreement and for three years thereafter, the Distributor (on behalf of itself and each of its affiliates) agrees not to commence, or provide any information to or otherwise assist any person or entity in connection with, any suit, action or proceeding contesting the ownership, validity or enforceability of any patent, copyright, trademark, trade name or other propriety right owned by or licensed to the Company, whether currently existing or hereinafter invented, developed or acquired unless required to by court order.'),\n",
              "             ('40', '')])"
            ]
          },
          "metadata": {},
          "execution_count": 18
        }
      ]
    },
    {
      "cell_type": "code",
      "source": [
        "with open('contract_review.txt', 'w') as f:\n",
        "    for i, p in enumerate(predictions):\n",
        "        f.write(f\"Question {i+1}: {questions[int(p)]}\\nAnswer: {predictions[p]}\\n\\n\")"
      ],
      "metadata": {
        "id": "OLwqsk67D61d"
      },
      "execution_count": 19,
      "outputs": []
    },
    {
      "cell_type": "code",
      "source": [
        "with open('/content/test.json') as json_file:\n",
        "    data = json.load(json_file)\n",
        "\n",
        "test = []\n",
        "for i, q in enumerate(data['data'][0]['paragraphs'][0]['qas']):\n",
        "    question = data['data'][0]['paragraphs'][0]['qas'][i]['question']\n",
        "    test.append(question)"
      ],
      "metadata": {
        "id": "KCvDyzYCVFDc"
      },
      "execution_count": null,
      "outputs": []
    },
    {
      "cell_type": "code",
      "source": [
        "with open('/content/train_separate_questions.json') as json_file:\n",
        "    data = json.load(json_file)\n",
        "\n",
        "s_question = []\n",
        "for i, q in enumerate(data['data'][0]['paragraphs'][0]['qas']):\n",
        "    question = data['data'][0]['paragraphs'][0]['qas'][i]['question']\n",
        "    s_question.append(question)\n",
        "\n",
        "s_question"
      ],
      "metadata": {
        "id": "hVG6QT_bV6Hh"
      },
      "execution_count": null,
      "outputs": []
    }
  ]
}