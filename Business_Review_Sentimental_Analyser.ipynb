{
  "nbformat": 4,
  "nbformat_minor": 0,
  "metadata": {
    "colab": {
      "provenance": [],
      "authorship_tag": "ABX9TyNO+kc6huYiFQfjTFIWHxvg",
      "include_colab_link": true
    },
    "kernelspec": {
      "name": "python3",
      "display_name": "Python 3"
    },
    "language_info": {
      "name": "python"
    }
  },
  "cells": [
    {
      "cell_type": "markdown",
      "metadata": {
        "id": "view-in-github",
        "colab_type": "text"
      },
      "source": [
        "<a href=\"https://colab.research.google.com/github/OSegun/Zummit-Africa-ML-AL-Projects/blob/main/Business_Review_Sentimental_Analyser.ipynb\" target=\"_parent\"><img src=\"https://colab.research.google.com/assets/colab-badge.svg\" alt=\"Open In Colab\"/></a>"
      ]
    },
    {
      "cell_type": "markdown",
      "source": [
        "# Business Review Sentimental Analyser\n",
        "\n",
        "Our study cas or use is to provide a sentimental analysis that helps to review customers comments or feedback on the rating of 1 to 5.\n",
        "\n",
        "We use an NLP bert pretrained model which can found from the link here https://huggingface.co/nlptown/bert-base-multilingual-uncased-sentiment and https://metatext.io/models/nlptown-bert-base-multilingual-uncased-sentiment we scrape the comments from businesses website with beautiful soup and convert it to a dataframe which is then feed into the model to provide the ratings of scale 1 to 5 on the business."
      ],
      "metadata": {
        "id": "4DyrVjFrR0G5"
      }
    },
    {
      "cell_type": "code",
      "source": [
        "#!pip install transformers"
      ],
      "metadata": {
        "id": "U-f5W0nKdjPm"
      },
      "execution_count": 34,
      "outputs": []
    },
    {
      "cell_type": "code",
      "execution_count": 35,
      "metadata": {
        "id": "ffZ5U6wRdTXt"
      },
      "outputs": [],
      "source": [
        "#Importing all dependences\n",
        "from transformers import AutoTokenizer, AutoModelForSequenceClassification\n",
        "import torch\n",
        "import requests\n",
        "from bs4 import BeautifulSoup\n",
        "import re\n",
        "import pandas as pd\n",
        "import numpy as np"
      ]
    },
    {
      "cell_type": "code",
      "source": [
        "tokenizer = AutoTokenizer.from_pretrained('nlptown/bert-base-multilingual-uncased-sentiment')\n",
        "# Instansiating the NLP bert model for use into our tokenizer\n",
        "model = AutoModelForSequenceClassification.from_pretrained('nlptown/bert-base-multilingual-uncased-sentiment')"
      ],
      "metadata": {
        "id": "q8Ez5T3fdadZ"
      },
      "execution_count": 36,
      "outputs": []
    },
    {
      "cell_type": "code",
      "source": [
        "tokens = tokenizer.encode('You built a great empire an I do hope there are visionaries to sustain it', return_tensors='pt')"
      ],
      "metadata": {
        "id": "vHzMMX9ndfmb"
      },
      "execution_count": 37,
      "outputs": []
    },
    {
      "cell_type": "code",
      "source": [
        "tokens[0]"
      ],
      "metadata": {
        "colab": {
          "base_uri": "https://localhost:8080/"
        },
        "id": "KOXDgiUkVxAD",
        "outputId": "bdbc4182-adda-4af4-d993-182435977675"
      },
      "execution_count": 38,
      "outputs": [
        {
          "output_type": "execute_result",
          "data": {
            "text/plain": [
              "tensor([  101, 10855, 12321,   143, 11838, 13359, 10144,   151, 10154, 18763,\n",
              "        10768, 10320, 17584, 30966, 10114, 10877, 41722, 10197,   102])"
            ]
          },
          "metadata": {},
          "execution_count": 38
        }
      ]
    },
    {
      "cell_type": "code",
      "source": [
        "result = model(tokens)"
      ],
      "metadata": {
        "id": "VUzHXGdmd3Kf"
      },
      "execution_count": 39,
      "outputs": []
    },
    {
      "cell_type": "code",
      "source": [
        "result.logits"
      ],
      "metadata": {
        "colab": {
          "base_uri": "https://localhost:8080/"
        },
        "id": "ES6qHsnad5go",
        "outputId": "90cabe2e-745a-4dff-c985-2237f05551cd"
      },
      "execution_count": 40,
      "outputs": [
        {
          "output_type": "execute_result",
          "data": {
            "text/plain": [
              "tensor([[-1.9258, -1.7160, -0.3581,  1.2074,  2.1254]],\n",
              "       grad_fn=<AddmmBackward0>)"
            ]
          },
          "metadata": {},
          "execution_count": 40
        }
      ]
    },
    {
      "cell_type": "code",
      "source": [
        "int(torch.argmax(result.logits))+1"
      ],
      "metadata": {
        "colab": {
          "base_uri": "https://localhost:8080/"
        },
        "id": "0PJXu9jSd7xi",
        "outputId": "54f7abd3-1c1d-4885-b8fe-c9ca1cf74238"
      },
      "execution_count": 41,
      "outputs": [
        {
          "output_type": "execute_result",
          "data": {
            "text/plain": [
              "5"
            ]
          },
          "metadata": {},
          "execution_count": 41
        }
      ]
    },
    {
      "cell_type": "code",
      "source": [
        "def sentiment_score(review):\n",
        "    tokens = tokenizer.encode(review, return_tensors='pt')\n",
        "    result = model(tokens)\n",
        "    return int(torch.argmax(result.logits))+1"
      ],
      "metadata": {
        "id": "j2RhZyZrekqs"
      },
      "execution_count": 42,
      "outputs": []
    },
    {
      "cell_type": "markdown",
      "source": [
        "### Evaluation With Business Pages"
      ],
      "metadata": {
        "id": "kPuLOtXranq3"
      }
    },
    {
      "cell_type": "code",
      "source": [
        "# Scraping the Jumia website with product about 10 reviews from the site\n",
        "r = requests.get('https://www.jumia.com.ng/catalog/productratingsreviews/sku/GE779EA1BY9XTNAFAMZ/')\n",
        "soup = BeautifulSoup(r.text, 'html.parser')\n",
        "regex = re.compile('-pvs')\n",
        "results = soup.find_all('p', {'class':regex})\n",
        "reviews = [result.text for result in results]"
      ],
      "metadata": {
        "id": "RVCeKBcWd_ag"
      },
      "execution_count": 43,
      "outputs": []
    },
    {
      "cell_type": "code",
      "source": [
        "reviews"
      ],
      "metadata": {
        "colab": {
          "base_uri": "https://localhost:8080/"
        },
        "id": "k2RrgiVyeENg",
        "outputId": "0b0a8638-8658-45aa-d3f3-92544ab98467"
      },
      "execution_count": 44,
      "outputs": [
        {
          "output_type": "execute_result",
          "data": {
            "text/plain": [
              "['Long lasting battery and smooth working experience',\n",
              " 'Perfect tool',\n",
              " 'Impressed by the ability and functions and also the beauty.. worth the price',\n",
              " 'A must have, but handle it gently and don’t let it fall.',\n",
              " 'It’s a nice product, working well for now and it lasts long before you have to charge it. Only ick is that the white gets dirty quickly so you might wanna get the black color.',\n",
              " \"It sleek on palm and it's noiseless when using it.\",\n",
              " \"It's slim. It's slick. It's perfect!\\nIt's very comfortable and ergonomic to use. One charge can go for a week. That's quite impressive.\",\n",
              " 'It’s so slim, sleek, noiseless. You just need to charge it once every few days (I use mine all day to work). It’s dope dope',\n",
              " 'its quit okay and nice',\n",
              " 'Nice product']"
            ]
          },
          "metadata": {},
          "execution_count": 44
        }
      ]
    },
    {
      "cell_type": "code",
      "source": [
        "df1 = pd.DataFrame(np.array(reviews), columns=['review']) # Converting it to pandas dataframe"
      ],
      "metadata": {
        "id": "eEK_t-uEeJ0a"
      },
      "execution_count": 45,
      "outputs": []
    },
    {
      "cell_type": "code",
      "source": [
        "df1['review'].iloc[1]"
      ],
      "metadata": {
        "colab": {
          "base_uri": "https://localhost:8080/",
          "height": 36
        },
        "id": "HG7YOcujehyy",
        "outputId": "d2ba12bb-1ee0-4d3d-c37b-38181806703f"
      },
      "execution_count": 46,
      "outputs": [
        {
          "output_type": "execute_result",
          "data": {
            "text/plain": [
              "'Perfect tool'"
            ],
            "application/vnd.google.colaboratory.intrinsic+json": {
              "type": "string"
            }
          },
          "metadata": {},
          "execution_count": 46
        }
      ]
    },
    {
      "cell_type": "code",
      "source": [
        "df1.shape"
      ],
      "metadata": {
        "colab": {
          "base_uri": "https://localhost:8080/"
        },
        "id": "MrxoFRYkbFyZ",
        "outputId": "3dd8d4e4-d0bc-47ac-ded1-cf69cd53012f"
      },
      "execution_count": 47,
      "outputs": [
        {
          "output_type": "execute_result",
          "data": {
            "text/plain": [
              "(10, 1)"
            ]
          },
          "metadata": {},
          "execution_count": 47
        }
      ]
    },
    {
      "cell_type": "code",
      "source": [
        "# Scraping a business on the yelp website of about 10 reviews\n",
        "r = requests.get('https://www.yelp.com/biz/dennys-san-francisco-2')\n",
        "soup = BeautifulSoup(r.text, 'html.parser')\n",
        "regex = re.compile('comment.')\n",
        "result1 = soup.find_all('p', {'class':regex})\n",
        "review1 = [result.text for result in result1]"
      ],
      "metadata": {
        "id": "1J6jLHj8bdjk"
      },
      "execution_count": 48,
      "outputs": []
    },
    {
      "cell_type": "code",
      "source": [
        "sentiment_score(df1['review'].iloc[0])"
      ],
      "metadata": {
        "colab": {
          "base_uri": "https://localhost:8080/"
        },
        "id": "dm5HTzVlen-x",
        "outputId": "c4e338f9-fb40-429c-ee77-8984170b0ce5"
      },
      "execution_count": 49,
      "outputs": [
        {
          "output_type": "execute_result",
          "data": {
            "text/plain": [
              "5"
            ]
          },
          "metadata": {},
          "execution_count": 49
        }
      ]
    },
    {
      "cell_type": "code",
      "source": [
        "df1['sentiment'] = df1['review'].apply(lambda x: sentiment_score(x[:512]))"
      ],
      "metadata": {
        "id": "vOGxZYZ_erWR"
      },
      "execution_count": 50,
      "outputs": []
    },
    {
      "cell_type": "code",
      "source": [
        "df1.head()"
      ],
      "metadata": {
        "colab": {
          "base_uri": "https://localhost:8080/",
          "height": 206
        },
        "id": "JvURffaBfATF",
        "outputId": "c84e32ad-280a-4d10-a9fe-b02cc9d60844"
      },
      "execution_count": 51,
      "outputs": [
        {
          "output_type": "execute_result",
          "data": {
            "text/plain": [
              "                                              review  sentiment\n",
              "0  Long lasting battery and smooth working experi...          5\n",
              "1                                       Perfect tool          5\n",
              "2  Impressed by the ability and functions and als...          5\n",
              "3  A must have, but handle it gently and don’t le...          4\n",
              "4  It’s a nice product, working well for now and ...          4"
            ],
            "text/html": [
              "\n",
              "  <div id=\"df-b02ef7ed-22a8-407f-8895-ad83cfc4f06d\">\n",
              "    <div class=\"colab-df-container\">\n",
              "      <div>\n",
              "<style scoped>\n",
              "    .dataframe tbody tr th:only-of-type {\n",
              "        vertical-align: middle;\n",
              "    }\n",
              "\n",
              "    .dataframe tbody tr th {\n",
              "        vertical-align: top;\n",
              "    }\n",
              "\n",
              "    .dataframe thead th {\n",
              "        text-align: right;\n",
              "    }\n",
              "</style>\n",
              "<table border=\"1\" class=\"dataframe\">\n",
              "  <thead>\n",
              "    <tr style=\"text-align: right;\">\n",
              "      <th></th>\n",
              "      <th>review</th>\n",
              "      <th>sentiment</th>\n",
              "    </tr>\n",
              "  </thead>\n",
              "  <tbody>\n",
              "    <tr>\n",
              "      <th>0</th>\n",
              "      <td>Long lasting battery and smooth working experi...</td>\n",
              "      <td>5</td>\n",
              "    </tr>\n",
              "    <tr>\n",
              "      <th>1</th>\n",
              "      <td>Perfect tool</td>\n",
              "      <td>5</td>\n",
              "    </tr>\n",
              "    <tr>\n",
              "      <th>2</th>\n",
              "      <td>Impressed by the ability and functions and als...</td>\n",
              "      <td>5</td>\n",
              "    </tr>\n",
              "    <tr>\n",
              "      <th>3</th>\n",
              "      <td>A must have, but handle it gently and don’t le...</td>\n",
              "      <td>4</td>\n",
              "    </tr>\n",
              "    <tr>\n",
              "      <th>4</th>\n",
              "      <td>It’s a nice product, working well for now and ...</td>\n",
              "      <td>4</td>\n",
              "    </tr>\n",
              "  </tbody>\n",
              "</table>\n",
              "</div>\n",
              "      <button class=\"colab-df-convert\" onclick=\"convertToInteractive('df-b02ef7ed-22a8-407f-8895-ad83cfc4f06d')\"\n",
              "              title=\"Convert this dataframe to an interactive table.\"\n",
              "              style=\"display:none;\">\n",
              "        \n",
              "  <svg xmlns=\"http://www.w3.org/2000/svg\" height=\"24px\"viewBox=\"0 0 24 24\"\n",
              "       width=\"24px\">\n",
              "    <path d=\"M0 0h24v24H0V0z\" fill=\"none\"/>\n",
              "    <path d=\"M18.56 5.44l.94 2.06.94-2.06 2.06-.94-2.06-.94-.94-2.06-.94 2.06-2.06.94zm-11 1L8.5 8.5l.94-2.06 2.06-.94-2.06-.94L8.5 2.5l-.94 2.06-2.06.94zm10 10l.94 2.06.94-2.06 2.06-.94-2.06-.94-.94-2.06-.94 2.06-2.06.94z\"/><path d=\"M17.41 7.96l-1.37-1.37c-.4-.4-.92-.59-1.43-.59-.52 0-1.04.2-1.43.59L10.3 9.45l-7.72 7.72c-.78.78-.78 2.05 0 2.83L4 21.41c.39.39.9.59 1.41.59.51 0 1.02-.2 1.41-.59l7.78-7.78 2.81-2.81c.8-.78.8-2.07 0-2.86zM5.41 20L4 18.59l7.72-7.72 1.47 1.35L5.41 20z\"/>\n",
              "  </svg>\n",
              "      </button>\n",
              "      \n",
              "  <style>\n",
              "    .colab-df-container {\n",
              "      display:flex;\n",
              "      flex-wrap:wrap;\n",
              "      gap: 12px;\n",
              "    }\n",
              "\n",
              "    .colab-df-convert {\n",
              "      background-color: #E8F0FE;\n",
              "      border: none;\n",
              "      border-radius: 50%;\n",
              "      cursor: pointer;\n",
              "      display: none;\n",
              "      fill: #1967D2;\n",
              "      height: 32px;\n",
              "      padding: 0 0 0 0;\n",
              "      width: 32px;\n",
              "    }\n",
              "\n",
              "    .colab-df-convert:hover {\n",
              "      background-color: #E2EBFA;\n",
              "      box-shadow: 0px 1px 2px rgba(60, 64, 67, 0.3), 0px 1px 3px 1px rgba(60, 64, 67, 0.15);\n",
              "      fill: #174EA6;\n",
              "    }\n",
              "\n",
              "    [theme=dark] .colab-df-convert {\n",
              "      background-color: #3B4455;\n",
              "      fill: #D2E3FC;\n",
              "    }\n",
              "\n",
              "    [theme=dark] .colab-df-convert:hover {\n",
              "      background-color: #434B5C;\n",
              "      box-shadow: 0px 1px 3px 1px rgba(0, 0, 0, 0.15);\n",
              "      filter: drop-shadow(0px 1px 2px rgba(0, 0, 0, 0.3));\n",
              "      fill: #FFFFFF;\n",
              "    }\n",
              "  </style>\n",
              "\n",
              "      <script>\n",
              "        const buttonEl =\n",
              "          document.querySelector('#df-b02ef7ed-22a8-407f-8895-ad83cfc4f06d button.colab-df-convert');\n",
              "        buttonEl.style.display =\n",
              "          google.colab.kernel.accessAllowed ? 'block' : 'none';\n",
              "\n",
              "        async function convertToInteractive(key) {\n",
              "          const element = document.querySelector('#df-b02ef7ed-22a8-407f-8895-ad83cfc4f06d');\n",
              "          const dataTable =\n",
              "            await google.colab.kernel.invokeFunction('convertToInteractive',\n",
              "                                                     [key], {});\n",
              "          if (!dataTable) return;\n",
              "\n",
              "          const docLinkHtml = 'Like what you see? Visit the ' +\n",
              "            '<a target=\"_blank\" href=https://colab.research.google.com/notebooks/data_table.ipynb>data table notebook</a>'\n",
              "            + ' to learn more about interactive tables.';\n",
              "          element.innerHTML = '';\n",
              "          dataTable['output_type'] = 'display_data';\n",
              "          await google.colab.output.renderOutput(dataTable, element);\n",
              "          const docLink = document.createElement('div');\n",
              "          docLink.innerHTML = docLinkHtml;\n",
              "          element.appendChild(docLink);\n",
              "        }\n",
              "      </script>\n",
              "    </div>\n",
              "  </div>\n",
              "  "
            ]
          },
          "metadata": {},
          "execution_count": 51
        }
      ]
    },
    {
      "cell_type": "code",
      "source": [
        "review1"
      ],
      "metadata": {
        "colab": {
          "base_uri": "https://localhost:8080/"
        },
        "id": "xrO_d_K_cCCH",
        "outputId": "a65ef4dd-88a4-4e1f-e446-6685dd492111"
      },
      "execution_count": 52,
      "outputs": [
        {
          "output_type": "execute_result",
          "data": {
            "text/plain": [
              "['I had Jordan as my waiter. He was absolutely great! He was very welcoming, very enthusiastic, funny and held the best quality service.',\n",
              " \"Tbh, I haven't eat at Denny's in ages. My mom and I decided to eat dinner here after our mini-shopping spree for Christmas. The ambiance has changed significantly but it brings me back to my childhood of eating Denny's at this particular location. I'm glad they're able to survive and thrive during the pandemic. It wasn't a busy and were seated immediately. We were able to choose our spot and sat closer to the kitchen and hallway to the restroom. I ordered the Plate Lickin' Fried Chicken with sides of red skin potatoes and steamed vegetables. My mom ordered the country fried steak with mashed potatoes and a side salad. Since we were in the mood for dinner but still wanted a small taste of breakfast, we ordered a side stack of pancakes. (If you don't want a full breakfast plate, just make sure to read carefully and look for the sides on the lower page of the menu). They also have Coke Zero in case you still want soda but calorie free, with refills. Props to Ryan for his above and beyond skills at accommodating us. Our orders arrived within 10 minutes. The Plate Lickin Fried Chicken had two breaded fried chicken breasts and blended well with their cream sauce and sides. The chicken was still crispy and tender. Surprisingly their food is not as greasy as I remembered and still had room for pancakes. Their pancakes are hella fluffy, moist and matches with their pancake syrup. Please note that upon finishing your meal, be sure to pay your tab at the cashier towards the entrance. I love their cute Christmas tree.\",\n",
              " \"As one of the only 24 hour open places in SF, Denny's is a place that I've been to late at night (usually after clubbing) multiple times for some much needed sustenance. The inside is fairly clean, and during the times I've been we've been able to get seated pretty quickly even with a group of 5-6. The service here was alright, nothing special but also nothing bad from what I could tell. \\xa0 \\xa0Honestly, if you come with the expectation that it's food at a Denny's then it's not too bad. I can't speak for other reviews on this place, but during the times I've been here the food has been pretty consistent and I didn't notice anything wrong with it. I've gotten the country-fried steak and eggs, and it's a decent amount of food for the price that you pay in SF. Probably pricier compared to Denny's outside of the city, but it's nothing absurd I feel. \\xa0 \\xa0Overall, at least when I've been here around 2-3 am it's been a pretty decent experience and I'm fine with coming back.\",\n",
              " \"Last night at 1am to pick my brother up. My wife had to prepare a room for his stay. I ordered a really cheap meal for about 5$ in cost and Coffee. The server was awesome and really attentive. He is one of those types of employees who Makes America Great Again!!Went to many Denny's in my many years of being a loyal customer. Sure there are some bummers and disappointments but over all I give this restaurant a 5 star rating due to being open 24 hours, great prices, about 90% of their employees are awesome and well worth tipping. Men especially.Denny's is and always has been positive in my life as at times I needed to sit for hours for coffee, fries and a news paper. To get ready for a nap on a long drive. Or even perk up as their coffee has always been a getup and goer. The meals are well worth the money. Spend high, you get good quality. Spend low, you get good quality and a meal well worth your money. I even tried the kids menu for the SOS or Baskets and Gravy. The flavors are awesome and well worth the money you spend on your kids and other. There are times when Kids eat free. Watch out for the advertizement on the window and other. Some stores do not and some do. SO you should ask or call in and ask how the Kids Eat Free works in their store. Otherwise, if you have 4 kids, like we do...2 are free because it consists of two adult movies gets a free meal for two kids. In my case my other two kids have to be paid for. Either way, you save. Out of many different restaurants, I choose Denny's as the 5 Star in the United States.\",\n",
              " \"Good ol' diner food. Denny's is a nostalgic place for me, I went a fair amount growing up in SoCal! Jason gave us excellent service and the pancakes hit the spot lol. The menu items are $15-20 each on average, so just be aware! Sign up for Denny's Rewards for a free grand slam on your birthday.\",\n",
              " 'I really like the hamburgers of this place, I was really amazed by the good dishes.',\n",
              " \"I recently visited Denny's for a quick breakfast, and it was a terrible experience. The restaurant was extremely busy, and it took ages to get a table. Once we were seated, the service was slow and unprofessional.The food was equally disappointing. The eggs were overcooked and the bacon was cold and rubbery. When we asked the server to fix it, they seemed annoyed and didn't make any effort to correct the issue. It was a complete waste of money.Overall, I would not recommend Denny's. The poor service and low-quality food make it a subpar dining experience. Save your money and go somewhere else where you can get better food and better service.\",\n",
              " \"We had the chicken wing and the nachos. Indelibly salty! None of us can eat, and the waiter seems unsurprised. I love Denny's, but this was disappointing. The food was not up to the usual standard. Here the food was ok, but the prices seemed much higher than we remembered. The waiter was friendly but seemed to lack knowledge about the gluten-free options available and was unwilling to enquire. A disappointing experience overall. The people behind us also complained about their meals too. Such a disappointing experience!\",\n",
              " \"My sister took her daughter to Denny's in Menomine because it was her birthday and everyone knows that restaurant gives the birthday person a free Grand Slam, which is what she ordered! Their server absolutely REFUSED to give it to them free!!! Because of this, they will never go back to that Denny's.It doesn't even deserve one star, but I had to give a rating.\",\n",
              " 'Very disappointed while I was entering there was plenty of homeless people inside just standing around trying to grab food instead of liking them out']"
            ]
          },
          "metadata": {},
          "execution_count": 52
        }
      ]
    },
    {
      "cell_type": "code",
      "source": [
        "df2 = pd.DataFrame(np.array(review1), columns=['review']) # Converting it to pandas dataframe"
      ],
      "metadata": {
        "id": "To11gsLEcQ3a"
      },
      "execution_count": 53,
      "outputs": []
    },
    {
      "cell_type": "code",
      "source": [
        "df2['review'].iloc[1]"
      ],
      "metadata": {
        "colab": {
          "base_uri": "https://localhost:8080/",
          "height": 128
        },
        "id": "wEC3zYCmcXBr",
        "outputId": "e99981fe-7e31-49e3-f554-13f6bb6bd877"
      },
      "execution_count": 54,
      "outputs": [
        {
          "output_type": "execute_result",
          "data": {
            "text/plain": [
              "\"Tbh, I haven't eat at Denny's in ages. My mom and I decided to eat dinner here after our mini-shopping spree for Christmas. The ambiance has changed significantly but it brings me back to my childhood of eating Denny's at this particular location. I'm glad they're able to survive and thrive during the pandemic. It wasn't a busy and were seated immediately. We were able to choose our spot and sat closer to the kitchen and hallway to the restroom. I ordered the Plate Lickin' Fried Chicken with sides of red skin potatoes and steamed vegetables. My mom ordered the country fried steak with mashed potatoes and a side salad. Since we were in the mood for dinner but still wanted a small taste of breakfast, we ordered a side stack of pancakes. (If you don't want a full breakfast plate, just make sure to read carefully and look for the sides on the lower page of the menu). They also have Coke Zero in case you still want soda but calorie free, with refills. Props to Ryan for his above and beyond skills at accommodating us. Our orders arrived within 10 minutes. The Plate Lickin Fried Chicken had two breaded fried chicken breasts and blended well with their cream sauce and sides. The chicken was still crispy and tender. Surprisingly their food is not as greasy as I remembered and still had room for pancakes. Their pancakes are hella fluffy, moist and matches with their pancake syrup. Please note that upon finishing your meal, be sure to pay your tab at the cashier towards the entrance. I love their cute Christmas tree.\""
            ],
            "application/vnd.google.colaboratory.intrinsic+json": {
              "type": "string"
            }
          },
          "metadata": {},
          "execution_count": 54
        }
      ]
    },
    {
      "cell_type": "code",
      "source": [
        "df2.shape"
      ],
      "metadata": {
        "colab": {
          "base_uri": "https://localhost:8080/"
        },
        "id": "deCQfOQkcfRZ",
        "outputId": "fcec942d-f023-4576-8bac-32abaed776e1"
      },
      "execution_count": 55,
      "outputs": [
        {
          "output_type": "execute_result",
          "data": {
            "text/plain": [
              "(10, 1)"
            ]
          },
          "metadata": {},
          "execution_count": 55
        }
      ]
    },
    {
      "cell_type": "code",
      "source": [
        "sentiment_score(df2['review'].iloc[1])"
      ],
      "metadata": {
        "id": "5PlAzPuCfEGx",
        "colab": {
          "base_uri": "https://localhost:8080/"
        },
        "outputId": "b658db38-3b7b-4d1e-9d0f-4f2c7cd4a4f0"
      },
      "execution_count": 56,
      "outputs": [
        {
          "output_type": "execute_result",
          "data": {
            "text/plain": [
              "4"
            ]
          },
          "metadata": {},
          "execution_count": 56
        }
      ]
    },
    {
      "cell_type": "code",
      "source": [
        "df2['sentiment'] = df2['review'].apply(lambda x: sentiment_score(x[:512]))"
      ],
      "metadata": {
        "id": "jp7bc8hedBY2"
      },
      "execution_count": 57,
      "outputs": []
    },
    {
      "cell_type": "code",
      "source": [
        "df2.head()"
      ],
      "metadata": {
        "colab": {
          "base_uri": "https://localhost:8080/",
          "height": 206
        },
        "id": "gErf2hA4dJgh",
        "outputId": "ee95b814-188f-43f4-9abc-88becc9660e2"
      },
      "execution_count": 58,
      "outputs": [
        {
          "output_type": "execute_result",
          "data": {
            "text/plain": [
              "                                              review  sentiment\n",
              "0  I had Jordan as my waiter. He was absolutely g...          5\n",
              "1  Tbh, I haven't eat at Denny's in ages. My mom ...          4\n",
              "2  As one of the only 24 hour open places in SF, ...          4\n",
              "3  Last night at 1am to pick my brother up. My wi...          5\n",
              "4  Good ol' diner food. Denny's is a nostalgic pl...          4"
            ],
            "text/html": [
              "\n",
              "  <div id=\"df-ee03a0ca-96fb-4e8b-b8bb-1b0defa9083a\">\n",
              "    <div class=\"colab-df-container\">\n",
              "      <div>\n",
              "<style scoped>\n",
              "    .dataframe tbody tr th:only-of-type {\n",
              "        vertical-align: middle;\n",
              "    }\n",
              "\n",
              "    .dataframe tbody tr th {\n",
              "        vertical-align: top;\n",
              "    }\n",
              "\n",
              "    .dataframe thead th {\n",
              "        text-align: right;\n",
              "    }\n",
              "</style>\n",
              "<table border=\"1\" class=\"dataframe\">\n",
              "  <thead>\n",
              "    <tr style=\"text-align: right;\">\n",
              "      <th></th>\n",
              "      <th>review</th>\n",
              "      <th>sentiment</th>\n",
              "    </tr>\n",
              "  </thead>\n",
              "  <tbody>\n",
              "    <tr>\n",
              "      <th>0</th>\n",
              "      <td>I had Jordan as my waiter. He was absolutely g...</td>\n",
              "      <td>5</td>\n",
              "    </tr>\n",
              "    <tr>\n",
              "      <th>1</th>\n",
              "      <td>Tbh, I haven't eat at Denny's in ages. My mom ...</td>\n",
              "      <td>4</td>\n",
              "    </tr>\n",
              "    <tr>\n",
              "      <th>2</th>\n",
              "      <td>As one of the only 24 hour open places in SF, ...</td>\n",
              "      <td>4</td>\n",
              "    </tr>\n",
              "    <tr>\n",
              "      <th>3</th>\n",
              "      <td>Last night at 1am to pick my brother up. My wi...</td>\n",
              "      <td>5</td>\n",
              "    </tr>\n",
              "    <tr>\n",
              "      <th>4</th>\n",
              "      <td>Good ol' diner food. Denny's is a nostalgic pl...</td>\n",
              "      <td>4</td>\n",
              "    </tr>\n",
              "  </tbody>\n",
              "</table>\n",
              "</div>\n",
              "      <button class=\"colab-df-convert\" onclick=\"convertToInteractive('df-ee03a0ca-96fb-4e8b-b8bb-1b0defa9083a')\"\n",
              "              title=\"Convert this dataframe to an interactive table.\"\n",
              "              style=\"display:none;\">\n",
              "        \n",
              "  <svg xmlns=\"http://www.w3.org/2000/svg\" height=\"24px\"viewBox=\"0 0 24 24\"\n",
              "       width=\"24px\">\n",
              "    <path d=\"M0 0h24v24H0V0z\" fill=\"none\"/>\n",
              "    <path d=\"M18.56 5.44l.94 2.06.94-2.06 2.06-.94-2.06-.94-.94-2.06-.94 2.06-2.06.94zm-11 1L8.5 8.5l.94-2.06 2.06-.94-2.06-.94L8.5 2.5l-.94 2.06-2.06.94zm10 10l.94 2.06.94-2.06 2.06-.94-2.06-.94-.94-2.06-.94 2.06-2.06.94z\"/><path d=\"M17.41 7.96l-1.37-1.37c-.4-.4-.92-.59-1.43-.59-.52 0-1.04.2-1.43.59L10.3 9.45l-7.72 7.72c-.78.78-.78 2.05 0 2.83L4 21.41c.39.39.9.59 1.41.59.51 0 1.02-.2 1.41-.59l7.78-7.78 2.81-2.81c.8-.78.8-2.07 0-2.86zM5.41 20L4 18.59l7.72-7.72 1.47 1.35L5.41 20z\"/>\n",
              "  </svg>\n",
              "      </button>\n",
              "      \n",
              "  <style>\n",
              "    .colab-df-container {\n",
              "      display:flex;\n",
              "      flex-wrap:wrap;\n",
              "      gap: 12px;\n",
              "    }\n",
              "\n",
              "    .colab-df-convert {\n",
              "      background-color: #E8F0FE;\n",
              "      border: none;\n",
              "      border-radius: 50%;\n",
              "      cursor: pointer;\n",
              "      display: none;\n",
              "      fill: #1967D2;\n",
              "      height: 32px;\n",
              "      padding: 0 0 0 0;\n",
              "      width: 32px;\n",
              "    }\n",
              "\n",
              "    .colab-df-convert:hover {\n",
              "      background-color: #E2EBFA;\n",
              "      box-shadow: 0px 1px 2px rgba(60, 64, 67, 0.3), 0px 1px 3px 1px rgba(60, 64, 67, 0.15);\n",
              "      fill: #174EA6;\n",
              "    }\n",
              "\n",
              "    [theme=dark] .colab-df-convert {\n",
              "      background-color: #3B4455;\n",
              "      fill: #D2E3FC;\n",
              "    }\n",
              "\n",
              "    [theme=dark] .colab-df-convert:hover {\n",
              "      background-color: #434B5C;\n",
              "      box-shadow: 0px 1px 3px 1px rgba(0, 0, 0, 0.15);\n",
              "      filter: drop-shadow(0px 1px 2px rgba(0, 0, 0, 0.3));\n",
              "      fill: #FFFFFF;\n",
              "    }\n",
              "  </style>\n",
              "\n",
              "      <script>\n",
              "        const buttonEl =\n",
              "          document.querySelector('#df-ee03a0ca-96fb-4e8b-b8bb-1b0defa9083a button.colab-df-convert');\n",
              "        buttonEl.style.display =\n",
              "          google.colab.kernel.accessAllowed ? 'block' : 'none';\n",
              "\n",
              "        async function convertToInteractive(key) {\n",
              "          const element = document.querySelector('#df-ee03a0ca-96fb-4e8b-b8bb-1b0defa9083a');\n",
              "          const dataTable =\n",
              "            await google.colab.kernel.invokeFunction('convertToInteractive',\n",
              "                                                     [key], {});\n",
              "          if (!dataTable) return;\n",
              "\n",
              "          const docLinkHtml = 'Like what you see? Visit the ' +\n",
              "            '<a target=\"_blank\" href=https://colab.research.google.com/notebooks/data_table.ipynb>data table notebook</a>'\n",
              "            + ' to learn more about interactive tables.';\n",
              "          element.innerHTML = '';\n",
              "          dataTable['output_type'] = 'display_data';\n",
              "          await google.colab.output.renderOutput(dataTable, element);\n",
              "          const docLink = document.createElement('div');\n",
              "          docLink.innerHTML = docLinkHtml;\n",
              "          element.appendChild(docLink);\n",
              "        }\n",
              "      </script>\n",
              "    </div>\n",
              "  </div>\n",
              "  "
            ]
          },
          "metadata": {},
          "execution_count": 58
        }
      ]
    },
    {
      "cell_type": "code",
      "source": [],
      "metadata": {
        "id": "4aokhCPQdNFv"
      },
      "execution_count": 58,
      "outputs": []
    }
  ]
}