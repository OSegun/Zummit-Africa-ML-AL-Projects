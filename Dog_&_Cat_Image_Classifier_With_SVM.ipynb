{
  "nbformat": 4,
  "nbformat_minor": 0,
  "metadata": {
    "colab": {
      "provenance": [],
      "authorship_tag": "ABX9TyPr6ApN4BxuvOzYoKW1Axfb",
      "include_colab_link": true
    },
    "kernelspec": {
      "name": "python3",
      "display_name": "Python 3"
    },
    "language_info": {
      "name": "python"
    }
  },
  "cells": [
    {
      "cell_type": "markdown",
      "metadata": {
        "id": "view-in-github",
        "colab_type": "text"
      },
      "source": [
        "<a href=\"https://colab.research.google.com/github/OSegun/Zummit-Africa-ML-AL-Projects/blob/main/Dog_%26_Cat_Image_Classifier_With_SVM.ipynb\" target=\"_parent\"><img src=\"https://colab.research.google.com/assets/colab-badge.svg\" alt=\"Open In Colab\"/></a>"
      ]
    },
    {
      "cell_type": "markdown",
      "source": [
        "# Dog & Cat Classification With CNN And SVM model Used Case\n",
        "\n",
        "\n",
        "The Dataset can be downloaded from kaggle website https://www.kaggle.com/c/dogs-vs-cats/data"
      ],
      "metadata": {
        "id": "zfYW2WySYYit"
      }
    },
    {
      "cell_type": "code",
      "execution_count": 47,
      "metadata": {
        "colab": {
          "base_uri": "https://localhost:8080/",
          "height": 36
        },
        "id": "iUD-C2ldCz3J",
        "outputId": "72f19c79-f86d-4195-9504-f6835629b008"
      },
      "outputs": [
        {
          "output_type": "execute_result",
          "data": {
            "text/plain": [
              "'2.11.0'"
            ],
            "application/vnd.google.colaboratory.intrinsic+json": {
              "type": "string"
            }
          },
          "metadata": {},
          "execution_count": 47
        }
      ],
      "source": [
        "# Importing all necessary libaries\n",
        "\n",
        "import os\n",
        "from zipfile import ZipFile\n",
        "import zipfile\n",
        "import tensorflow as tf\n",
        "from tensorflow.keras.preprocessing.image import ImageDataGenerator\n",
        "from tensorflow.keras.layers import Conv2D\n",
        "from tensorflow.keras.layers import Dense\n",
        "from tensorflow.keras.regularizers import l2\n",
        "tf.__version__"
      ]
    },
    {
      "cell_type": "code",
      "source": [
        "!wget --no-check-certificate \\ # Downloading the cat & dog dataset\n",
        "   https://storage.googleapis.com/mledu-datasets/cats_and_dogs_filtered.zip -O \\\n",
        "   /tmp/cats_and_dogs_filtered.zip"
      ],
      "metadata": {
        "colab": {
          "base_uri": "https://localhost:8080/"
        },
        "id": "L9tkK198dnWe",
        "outputId": "729ac292-9802-4ae4-edc4-c39b61322d81"
      },
      "execution_count": 48,
      "outputs": [
        {
          "output_type": "stream",
          "name": "stdout",
          "text": [
            "--2023-03-20 14:10:22--  https://storage.googleapis.com/mledu-datasets/cats_and_dogs_filtered.zip\n",
            "Resolving storage.googleapis.com (storage.googleapis.com)... 172.217.219.128, 209.85.146.128, 209.85.147.128, ...\n",
            "Connecting to storage.googleapis.com (storage.googleapis.com)|172.217.219.128|:443... connected.\n",
            "HTTP request sent, awaiting response... 200 OK\n",
            "Length: 68606236 (65M) [application/zip]\n",
            "Saving to: ‘/tmp/cats_and_dogs_filtered.zip’\n",
            "\n",
            "/tmp/cats_and_dogs_ 100%[===================>]  65.43M   190MB/s    in 0.3s    \n",
            "\n",
            "2023-03-20 14:10:23 (190 MB/s) - ‘/tmp/cats_and_dogs_filtered.zip’ saved [68606236/68606236]\n",
            "\n"
          ]
        }
      ]
    },
    {
      "cell_type": "code",
      "source": [
        "# Creating directories for our training and test dataset\n",
        "local_zip = '/tmp/cats_and_dogs_filtered.zip'\n",
        "zip_ref = zipfile.ZipFile(local_zip, 'r')\n",
        "zip_ref.extractall('/tmp')\n",
        "zip_ref.close()\n",
        "  \n",
        "base_dir = '/tmp/cats_and_dogs_filtered'\n",
        "train_dir = os.path.join(base_dir, 'train')\n",
        "test_dir = os.path.join(base_dir, 'validation')\n"
      ],
      "metadata": {
        "id": "DKjxye1LdpTP"
      },
      "execution_count": 49,
      "outputs": []
    },
    {
      "cell_type": "code",
      "source": [
        "print(train_dir)"
      ],
      "metadata": {
        "colab": {
          "base_uri": "https://localhost:8080/"
        },
        "id": "uftR_MAMeCBu",
        "outputId": "f8cef157-9310-44c1-9e0d-67dc1564f831"
      },
      "execution_count": 50,
      "outputs": [
        {
          "output_type": "stream",
          "name": "stdout",
          "text": [
            "/tmp/cats_and_dogs_filtered/train\n"
          ]
        }
      ]
    },
    {
      "cell_type": "code",
      "source": [
        "# Data Preprocessing\n",
        "\n",
        "# Preprocessing the training dataset\n",
        "\n",
        "train_gen = ImageDataGenerator(rescale = 1./255, shear_range = 0.2,\n",
        "                               zoom_range = 0.2, horizontal_flip = True)\n",
        "\n",
        "train_set = train_gen.flow_from_directory(train_dir, target_size = (64, 64),\n",
        "                                          batch_size = 32, class_mode = 'binary')\n",
        "\n"
      ],
      "metadata": {
        "colab": {
          "base_uri": "https://localhost:8080/"
        },
        "id": "SMeS4KpTEWew",
        "outputId": "ee1056ca-1235-4a84-caa6-9e20677899ce"
      },
      "execution_count": 51,
      "outputs": [
        {
          "output_type": "stream",
          "name": "stdout",
          "text": [
            "Found 2000 images belonging to 2 classes.\n"
          ]
        }
      ]
    },
    {
      "cell_type": "code",
      "source": [
        "# Preprocessing the training dataset\n",
        "\n",
        "test_gen = ImageDataGenerator(rescale = 1./255)\n",
        "test_set = test_gen.flow_from_directory(test_dir, target_size = (64, 64),\n",
        "                                          batch_size = 32, class_mode = 'binary')"
      ],
      "metadata": {
        "colab": {
          "base_uri": "https://localhost:8080/"
        },
        "id": "Is6MBUydF3Jf",
        "outputId": "e0d22e4b-0dcd-457f-c451-cacec4d2c809"
      },
      "execution_count": 52,
      "outputs": [
        {
          "output_type": "stream",
          "name": "stdout",
          "text": [
            "Found 1000 images belonging to 2 classes.\n"
          ]
        }
      ]
    },
    {
      "cell_type": "code",
      "source": [
        "# Building the CNN\n",
        "\n",
        "\n",
        "# Initialising the CNN\n",
        "cnn = tf.keras.models.Sequential()\n",
        "\n",
        "# Step 1 - Convolution\n",
        "cnn.add(tf.keras.layers.Conv2D(filters=32,padding=\"same\",kernel_size=3, activation='relu', strides=2, input_shape=[64, 64, 3]))\n",
        "\n",
        "# Step 2 - Pooling\n",
        "cnn.add(tf.keras.layers.MaxPool2D(pool_size=2, strides=2))\n",
        "\n",
        "# Adding a second convolutional layer\n",
        "cnn.add(tf.keras.layers.Conv2D(filters=32,padding='same',kernel_size=3, activation='relu'))\n",
        "cnn.add(tf.keras.layers.MaxPool2D(pool_size=2, strides=2))\n",
        "\n",
        "# Step 3 - Flattening\n",
        "cnn.add(tf.keras.layers.Flatten())\n",
        "\n",
        "# Step 4 - Full Connection\n",
        "cnn.add(tf.keras.layers.Dense(units=128, activation='relu'))\n",
        "\n",
        "# Step 5 - Output Layer\n",
        "# regularizers and linear activation function as a used case for SVM binary model\n",
        "## For Binary Classification\n",
        "cnn.add(Dense(1, kernel_regularizer=tf.keras.regularizers.l2(0.01),activation\n",
        "             ='linear'))"
      ],
      "metadata": {
        "id": "pYttWzyoO5wW"
      },
      "execution_count": 53,
      "outputs": []
    },
    {
      "cell_type": "code",
      "source": [
        "cnn.summary()"
      ],
      "metadata": {
        "colab": {
          "base_uri": "https://localhost:8080/"
        },
        "id": "stq92LwSSN5d",
        "outputId": "da517835-78bd-4b84-8f8f-e425d50a4e3d"
      },
      "execution_count": 54,
      "outputs": [
        {
          "output_type": "stream",
          "name": "stdout",
          "text": [
            "Model: \"sequential_1\"\n",
            "_________________________________________________________________\n",
            " Layer (type)                Output Shape              Param #   \n",
            "=================================================================\n",
            " conv2d_2 (Conv2D)           (None, 32, 32, 32)        896       \n",
            "                                                                 \n",
            " max_pooling2d_2 (MaxPooling  (None, 16, 16, 32)       0         \n",
            " 2D)                                                             \n",
            "                                                                 \n",
            " conv2d_3 (Conv2D)           (None, 16, 16, 32)        9248      \n",
            "                                                                 \n",
            " max_pooling2d_3 (MaxPooling  (None, 8, 8, 32)         0         \n",
            " 2D)                                                             \n",
            "                                                                 \n",
            " flatten_1 (Flatten)         (None, 2048)              0         \n",
            "                                                                 \n",
            " dense_3 (Dense)             (None, 128)               262272    \n",
            "                                                                 \n",
            " dense_4 (Dense)             (None, 1)                 129       \n",
            "                                                                 \n",
            "=================================================================\n",
            "Total params: 272,545\n",
            "Trainable params: 272,545\n",
            "Non-trainable params: 0\n",
            "_________________________________________________________________\n"
          ]
        }
      ]
    },
    {
      "cell_type": "code",
      "source": [
        "# Training the CNN\n",
        "\n",
        "# Compiling the CNN\n",
        "cnn.compile(optimizer = 'adam', loss = 'hinge', metrics = ['accuracy'])\n",
        "\n",
        "# Training the CNN on the Training set and evaluating it on the Test set\n",
        "r = cnn.fit(x = train_set, validation_data = test_set, epochs = 15)"
      ],
      "metadata": {
        "colab": {
          "base_uri": "https://localhost:8080/"
        },
        "id": "3iz7FvPlSTF6",
        "outputId": "666f808b-20a6-4b00-beb1-780ff53695f2"
      },
      "execution_count": 55,
      "outputs": [
        {
          "output_type": "stream",
          "name": "stdout",
          "text": [
            "Epoch 1/15\n",
            "63/63 [==============================] - 17s 249ms/step - loss: 1.0117 - accuracy: 0.5145 - val_loss: 0.9554 - val_accuracy: 0.5400\n",
            "Epoch 2/15\n",
            "63/63 [==============================] - 17s 268ms/step - loss: 0.9194 - accuracy: 0.5685 - val_loss: 0.7791 - val_accuracy: 0.6250\n",
            "Epoch 3/15\n",
            "63/63 [==============================] - 17s 269ms/step - loss: 0.7985 - accuracy: 0.6210 - val_loss: 0.7593 - val_accuracy: 0.6560\n",
            "Epoch 4/15\n",
            "63/63 [==============================] - 17s 268ms/step - loss: 0.7810 - accuracy: 0.6370 - val_loss: 0.7630 - val_accuracy: 0.6650\n",
            "Epoch 5/15\n",
            "63/63 [==============================] - 17s 268ms/step - loss: 0.7298 - accuracy: 0.6625 - val_loss: 0.7211 - val_accuracy: 0.7000\n",
            "Epoch 6/15\n",
            "63/63 [==============================] - 17s 266ms/step - loss: 0.6727 - accuracy: 0.6875 - val_loss: 0.6522 - val_accuracy: 0.7000\n",
            "Epoch 7/15\n",
            "63/63 [==============================] - 17s 269ms/step - loss: 0.6421 - accuracy: 0.6920 - val_loss: 0.6445 - val_accuracy: 0.7160\n",
            "Epoch 8/15\n",
            "63/63 [==============================] - 16s 261ms/step - loss: 0.6545 - accuracy: 0.6910 - val_loss: 0.6682 - val_accuracy: 0.6550\n",
            "Epoch 9/15\n",
            "63/63 [==============================] - 17s 268ms/step - loss: 0.6396 - accuracy: 0.6935 - val_loss: 0.6862 - val_accuracy: 0.7120\n",
            "Epoch 10/15\n",
            "63/63 [==============================] - 17s 267ms/step - loss: 0.6007 - accuracy: 0.7190 - val_loss: 0.6727 - val_accuracy: 0.7050\n",
            "Epoch 11/15\n",
            "63/63 [==============================] - 17s 267ms/step - loss: 0.6041 - accuracy: 0.7150 - val_loss: 0.6562 - val_accuracy: 0.7250\n",
            "Epoch 12/15\n",
            "63/63 [==============================] - 17s 268ms/step - loss: 0.5789 - accuracy: 0.7275 - val_loss: 0.6428 - val_accuracy: 0.7420\n",
            "Epoch 13/15\n",
            "63/63 [==============================] - 18s 293ms/step - loss: 0.5545 - accuracy: 0.7440 - val_loss: 0.6194 - val_accuracy: 0.7330\n",
            "Epoch 14/15\n",
            "63/63 [==============================] - 15s 237ms/step - loss: 0.5528 - accuracy: 0.7455 - val_loss: 0.6031 - val_accuracy: 0.7350\n",
            "Epoch 15/15\n",
            "63/63 [==============================] - 15s 234ms/step - loss: 0.5442 - accuracy: 0.7435 - val_loss: 0.6018 - val_accuracy: 0.7280\n"
          ]
        }
      ]
    },
    {
      "cell_type": "code",
      "source": [
        "# plot the loss\n",
        "import matplotlib.pyplot as plt\n",
        "plt.plot(r.history['loss'], label='train loss')\n",
        "plt.plot(r.history['val_loss'], label='val loss')\n",
        "plt.legend()\n",
        "plt.show()\n",
        "plt.savefig('LossVal_loss')\n",
        "\n"
      ],
      "metadata": {
        "colab": {
          "base_uri": "https://localhost:8080/",
          "height": 283
        },
        "id": "fw4zGp26Skuw",
        "outputId": "e4a49f5c-2aeb-473a-d9f0-08df715ae86b"
      },
      "execution_count": 58,
      "outputs": [
        {
          "output_type": "display_data",
          "data": {
            "text/plain": [
              "<Figure size 432x288 with 1 Axes>"
            ],
            "image/png": "[encoded data removed]"
          },
          "metadata": {
            "needs_background": "light"
          }
        },
        {
          "output_type": "display_data",
          "data": {
            "text/plain": [
              "<Figure size 432x288 with 0 Axes>"
            ]
          },
          "metadata": {}
        }
      ]
    },
    {
      "cell_type": "code",
      "source": [
        "# plot the accuracy\n",
        "plt.plot(r.history['accuracy'], label='train acc')\n",
        "plt.plot(r.history['val_accuracy'], label='val acc')\n",
        "plt.legend()\n",
        "plt.show()\n",
        "plt.savefig('AccVal_acc')"
      ],
      "metadata": {
        "colab": {
          "base_uri": "https://localhost:8080/",
          "height": 283
        },
        "id": "SaNbQYdKUucz",
        "outputId": "90bd65c0-63f0-44d5-8f6b-fd886d4024e2"
      },
      "execution_count": 59,
      "outputs": [
        {
          "output_type": "display_data",
          "data": {
            "text/plain": [
              "<Figure size 432x288 with 1 Axes>"
            ],
            "image/png": "[encoded data removed]"
          },
          "metadata": {
            "needs_background": "light"
          }
        },
        {
          "output_type": "display_data",
          "data": {
            "text/plain": [
              "<Figure size 432x288 with 0 Axes>"
            ]
          },
          "metadata": {}
        }
      ]
    },
    {
      "cell_type": "code",
      "source": [],
      "metadata": {
        "id": "etaTmqoUaLiS"
      },
      "execution_count": null,
      "outputs": []
    }
  ]
}